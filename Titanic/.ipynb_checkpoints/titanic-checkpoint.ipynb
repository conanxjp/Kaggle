{
 "cells": [
  {
   "cell_type": "code",
   "execution_count": 1,
   "metadata": {},
   "outputs": [],
   "source": [
    "import os\n",
    "import numpy as np\n",
    "import pandas as pd"
   ]
  },
  {
   "cell_type": "code",
   "execution_count": 9,
   "metadata": {},
   "outputs": [],
   "source": [
    "ROOT = os.getcwd()\n",
    "DATA_FOLDER = '/data'\n",
    "TRAIN_FILE = '/train.csv'\n",
    "TEST_FILE = '/test.csv'\n",
    "TRAIN_PATH = os.getcwd() + DATA_FOLDER + TRAIN_FILE\n",
    "TEST_PATH = os.getcwd() + DATA_FOLDER + TEST_FILE"
   ]
  },
  {
   "cell_type": "code",
   "execution_count": 88,
   "metadata": {},
   "outputs": [],
   "source": [
    "train = pd.read_csv(TRAIN_PATH)\n",
    "test = pd.read_csv(TEST_PATH)"
   ]
  },
  {
   "cell_type": "code",
   "execution_count": 66,
   "metadata": {},
   "outputs": [
    {
     "name": "stdout",
     "output_type": "stream",
     "text": [
      "<class 'pandas.core.frame.DataFrame'>\n",
      "RangeIndex: 891 entries, 0 to 890\n",
      "Data columns (total 12 columns):\n",
      "PassengerId    891 non-null int64\n",
      "Survived       891 non-null int64\n",
      "Pclass         891 non-null int64\n",
      "Name           891 non-null object\n",
      "Sex            891 non-null object\n",
      "Age            714 non-null float64\n",
      "SibSp          891 non-null int64\n",
      "Parch          891 non-null int64\n",
      "Ticket         891 non-null object\n",
      "Fare           891 non-null float64\n",
      "Cabin          204 non-null object\n",
      "Embarked       889 non-null object\n",
      "dtypes: float64(2), int64(5), object(5)\n",
      "memory usage: 83.6+ KB\n"
     ]
    }
   ],
   "source": [
    "train.info()"
   ]
  },
  {
   "cell_type": "code",
   "execution_count": 92,
   "metadata": {},
   "outputs": [],
   "source": [
    "########################################################\n",
    "# clean up data, handle nan cells                      #\n",
    "########################################################\n",
    "# 1. NaN in Age\n",
    "# use male and female age averages to fill the nan cells\n",
    "maleAgeAvg = np.nanmean(train['Age'])\n",
    "femaleAgeAvg = np.nanmean(train['Age'])\n",
    "# ## method 1: use np.isnan to find nan cells\n",
    "# train.loc[(train['Sex'] == 'male') & np.isnan(train['Age']), 'Age'] = maleAgeAvg\n",
    "# train.loc[(train['Sex'] == 'female') & np.isnan(train['Age']), 'Age'] = femaleAgeAvg\n",
    "## method 2: use df.fillna() to fill in nan cells\n",
    "train.loc[train['Sex'] == 'male', 'Age'] = train['Age'][train['Sex'] == 'male'].fillna(maleAgeAvg)\n",
    "train.loc[train['Sex'] == 'female', 'Age'] = train['Age'][train['Sex'] == 'female'].fillna(femaleAgeAvgeAvg)"
   ]
  },
  {
   "cell_type": "code",
   "execution_count": 98,
   "metadata": {},
   "outputs": [],
   "source": [
    "# 2. NaN in Cabin, not a clean way to how to handle, leave it be"
   ]
  },
  {
   "cell_type": "code",
   "execution_count": null,
   "metadata": {},
   "outputs": [],
   "source": [
    "########################################################\n",
    "# Inspect data columns for potential features          #\n",
    "########################################################"
   ]
  },
  {
   "cell_type": "code",
   "execution_count": null,
   "metadata": {},
   "outputs": [],
   "source": []
  }
 ],
 "metadata": {
  "kernelspec": {
   "display_name": "Python 3",
   "language": "python",
   "name": "python3"
  },
  "language_info": {
   "codemirror_mode": {
    "name": "ipython",
    "version": 3
   },
   "file_extension": ".py",
   "mimetype": "text/x-python",
   "name": "python",
   "nbconvert_exporter": "python",
   "pygments_lexer": "ipython3",
   "version": "3.6.4"
  }
 },
 "nbformat": 4,
 "nbformat_minor": 2
}
